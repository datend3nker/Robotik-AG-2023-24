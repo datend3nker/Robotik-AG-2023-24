{
 "cells": [
  {
   "cell_type": "markdown",
   "id": "45c89189-d332-46c7-8551-419db3e53ba3",
   "metadata": {},
   "source": [
    "# Notebook 2: Boolesche Algebra in Python\n",
    "\n",
    "## Grundkonzept:\n",
    "In diesem Notebook werden wir die Boolesche Algebra in Python kennenlernen. Boolesche Algebra ist ein wichtiger Teil der Logik und wird in der Programmierung häufig verwendet.\n",
    "\n",
    "### Boolesche Operatoren in Python:\n",
    "- **AND (und) - `and`:** Gibt True zurück, wenn beide Operanden True sind, andernfalls False.\n",
    "- **OR (oder) - `or`:** Gibt True zurück, wenn mindestens einer der Operanden True ist, andernfalls False.\n",
    "- **NOT (nicht) - `not`:** Kehrt den Wert des Operanden um. True wird zu False und False wird zu True.\n",
    "\n",
    "### Wahrheitstabelle:\n",
    "Eine Wahrheitstabelle zeigt alle möglichen Kombinationen von Eingaben und das Ergebnis einer booleschen Operation. Hier ist eine Wahrheitstabelle für die AND-Operation:\n",
    "\n",
    "| Eingabe A | Eingabe B | A AND B |\n",
    "|-----------|-----------|---------|\n",
    "| True      | True      | True    |\n",
    "| True      | False     | False   |\n",
    "| False     | True      | False   |\n",
    "| False     | False     | False   |\n",
    "\n",
    "## Aufgabe 1: AND-Operation\n",
    "\n",
    "### Aufgabenstellung:\n",
    "1. Erstelle eine boolesche Variable `a` und weise ihr den Wert True zu.\n",
    "2. Erstelle eine boolesche Variable `b` und weise ihr den Wert False zu.\n",
    "3. Berechne das Ergebnis der AND-Operation von `a` und `b` und weise es der Variable `ergebnis` zu."
   ]
  },
  {
   "cell_type": "code",
   "execution_count": null,
   "id": "2821a640-4794-4adc-aa4c-ebacad3dff76",
   "metadata": {},
   "outputs": [],
   "source": [
    "# code hier einfügen"
   ]
  },
  {
   "cell_type": "markdown",
   "id": "12d84d5b-bbcd-42b9-99f9-ee12a98cf70e",
   "metadata": {},
   "source": [
    "## Aufgabe 2: OR-Operation\n",
    "\n",
    "### Aufgabenstellung:\n",
    "1. Erstelle eine boolesche Variable `x` und weise ihr den Wert True zu.\n",
    "2. Erstelle eine boolesche Variable `y` und weise ihr den Wert False zu.\n",
    "3. Berechne das Ergebnis der OR-Operation von `x` und `y` und weise es der Variable `ergebnis` zu."
   ]
  },
  {
   "cell_type": "code",
   "execution_count": 1,
   "id": "d29933bc-cb3e-4226-916c-56b117ab174c",
   "metadata": {},
   "outputs": [],
   "source": [
    "# Code hier einfügen"
   ]
  },
  {
   "cell_type": "markdown",
   "id": "d291f83e-2742-4cd8-9542-41bc8427ca0a",
   "metadata": {},
   "source": [
    "## Aufgabe 3: NOT-Operation\n",
    "\n",
    "### Aufgabenstellung:\n",
    "1. Erstelle eine boolesche Variable `c` und weise ihr den Wert True zu.\n",
    "2. Verwende die NOT-Operation, um den Wert von `c` umzukehren, und weise das Ergebnis der Variable `negation` zu."
   ]
  },
  {
   "cell_type": "code",
   "execution_count": null,
   "id": "07bf4962-252a-4bb8-ba86-74882925078d",
   "metadata": {},
   "outputs": [],
   "source": [
    "# Code hier einfügen"
   ]
  }
 ],
 "metadata": {
  "kernelspec": {
   "display_name": "Python 3 (ipykernel)",
   "language": "python",
   "name": "python3"
  },
  "language_info": {
   "codemirror_mode": {
    "name": "ipython",
    "version": 3
   },
   "file_extension": ".py",
   "mimetype": "text/x-python",
   "name": "python",
   "nbconvert_exporter": "python",
   "pygments_lexer": "ipython3",
   "version": "3.11.0"
  }
 },
 "nbformat": 4,
 "nbformat_minor": 5
}
