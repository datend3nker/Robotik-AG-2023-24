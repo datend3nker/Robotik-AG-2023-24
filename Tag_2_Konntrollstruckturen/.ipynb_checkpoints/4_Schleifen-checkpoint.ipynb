{
 "cells": [
  {
   "cell_type": "markdown",
   "id": "5618eafb-fa10-40af-99b6-f21559695a7c",
   "metadata": {},
   "source": [
    "# Notebook 4: Schleifen (while, for) in Python\n",
    "\n",
    "## Grundkonzept:\n",
    "In diesem Notebook werden wir die Verwendung von Schleifen in Python kennenlernen. Schleifen ermöglichen es uns, Codeblöcke mehrmals auszuführen.\n",
    "\n",
    "### Grundsynta:\n",
    "Die grundlegende Syntax für Schleifen in Python ist wie folgt:\n",
    "\n",
    "#### `while`-Schleife:\n",
    "```python\n",
    "while Bedingung:\n",
    "    # Code wird wiederholt ausgeführt, solange die Bedingung wahr ist\n",
    "```\n",
    "\n",
    "#### `for`-Schleife:\n",
    "```python\n",
    "for Element in Sequenz:\n",
    "    # Code wird für jedes Element in der Sequenz ausgeführt\n",
    "```\n",
    "\n",
    "## Aufgabe 1: `while`-Schleife\n",
    "\n",
    "### Aufgabenstellung:\n",
    "1. Verwende eine `while`-Schleife, um die Zahlen von 1 bis 5 auszugeben.\n"
   ]
  },
  {
   "cell_type": "code",
   "execution_count": null,
   "id": "9bde9007-7478-41a9-abad-47c9fbd2d434",
   "metadata": {},
   "outputs": [],
   "source": []
  },
  {
   "cell_type": "markdown",
   "id": "59ee449a-f3cd-4f57-9dcb-149ff2b226b0",
   "metadata": {},
   "source": [
    "## Aufgabe 2: `for`-Schleife mit Listen\n",
    "\n",
    "### Aufgabenstellung:\n",
    "1. Erstelle eine Liste `fruechte` mit den Elementen \"Apfel\", \"Banane\", \"Orange\", \"Erdbeere\".\n",
    "   - `fruechte = [\"Apfel\", \"Banane\", \"Orange\", \"Erdbeere\"]` lernen wir später noch genauer\n",
    "3. Verwende eine `for`-Schleife, um jede Frucht in der Liste auszugeben."
   ]
  },
  {
   "cell_type": "code",
   "execution_count": null,
   "id": "0ceaaf59-3474-41ee-bebe-e7fa3efe7e94",
   "metadata": {},
   "outputs": [],
   "source": []
  },
  {
   "cell_type": "markdown",
   "id": "d7ae1d04-1484-4153-97cc-711e4d6149f0",
   "metadata": {},
   "source": [
    "## Aufgabe 3: `for`-Schleife mit Zahlen\n",
    "\n",
    "### Aufgabenstellung:\n",
    "1. Verwende eine `for`-Schleife, um die geraden Zahlen von 2 bis 10 auszugeben."
   ]
  },
  {
   "cell_type": "markdown",
   "id": "03664878-bb37-4a86-bdc2-e438904ef089",
   "metadata": {},
   "source": [
    "<details>\n",
    "  <summary>Erklärung und Lösungshinweis</summary>\n",
    "    \n",
    "Um Zahlen in einer `for`-Schleife auszugeben, benutzen wir die `range(n)` Funktion.\n",
    "Sie gibt die Zahlen von 0 bis n-1 aus\n",
    "```python\n",
    ">>> for x inn range(3):\n",
    ">>>     print(x)\n",
    "0\n",
    "1\n",
    "2\n",
    "``` \n",
    "</details>"
   ]
  },
  {
   "cell_type": "code",
   "execution_count": null,
   "id": "0153c665-fc9e-44be-be6c-5cf854e7dd37",
   "metadata": {},
   "outputs": [],
   "source": []
  },
  {
   "cell_type": "markdown",
   "id": "7dd28b80-6057-4295-b363-47ee908ce816",
   "metadata": {},
   "source": [
    "## Aufgabe 4: `while`-Schleife mit Bedingung\n",
    "\n",
    "### Aufgabenstellung:\n",
    "1. Verwende eine `while`-Schleife, um Zufallszahlen zwischen 1 und 10 zu generieren, bis eine 7 erreicht wird.\n",
    "2. Gib die Anzahl der Versuche aus, die benötigt wurden, um die 7 zu erreichen."
   ]
  },
  {
   "cell_type": "markdown",
   "id": "4093c97c-cd61-42f5-9e05-ccdb05435842",
   "metadata": {},
   "source": [
    "<details>\n",
    "  <summary>Erklärung und Lösungshinweis</summary>\n",
    "    \n",
    "Um Zufallszahlen zu erzeugen, müssen wir die Erweiterung `random`importieren.\n",
    "Das machen wir ganz am Anfang unseres Codes.\n",
    "Um nun eine Zufallszahl zu erzeugen benutzen wir die Funktion `random.randint(start, ende)`, die eine Zufallszahl erzeugt, die im Bereich zwischen Start und Ende, liegt (start und ende inbegriffen). \n",
    "```python\n",
    ">>> import random\n",
    ">>> # irgend ein code hier\n",
    ">>> zahl = random.randint(1, 10) # Erzeugt eine Zufalszahl zwischen 1 unnd 10. Beide beinhaltet\n",
    "3  # a ist in Hallo entahlten\n",
    "``` \n",
    "</details>"
   ]
  },
  {
   "cell_type": "code",
   "execution_count": null,
   "id": "52eb5213-5dbd-4f28-b0a8-5d228cbd8f6b",
   "metadata": {},
   "outputs": [],
   "source": []
  },
  {
   "cell_type": "markdown",
   "id": "1aa367f5-e18b-4d1e-8f14-9194752e15ea",
   "metadata": {},
   "source": [
    "## Aufgabe 5: `for`-Schleife mit verschachtelter Liste\n",
    "\n",
    "### Aufgabenstellung:\n",
    "1. Erstelle eine verschachtelte Liste `matrix` mit den Elementen:\n",
    "   ```python\n",
    "   matrix = [[1, 2, 3],\n",
    "            [4, 5, 6],\n",
    "            [7, 8, 9]]\n",
    "   ```\n",
    "   - Was das genau ist, gucken wir uns später an. Ist aber so ähnlich wie eine Liste.\n",
    "2. Verwende eine `for`-Schleife, um jedes Element in der Matrix auszugeben.\n"
   ]
  },
  {
   "cell_type": "code",
   "execution_count": null,
   "id": "06d1883a-0419-465e-92af-c341ec1a4a8a",
   "metadata": {},
   "outputs": [],
   "source": []
  }
 ],
 "metadata": {
  "kernelspec": {
   "display_name": "Python 3 (ipykernel)",
   "language": "python",
   "name": "python3"
  },
  "language_info": {
   "codemirror_mode": {
    "name": "ipython",
    "version": 3
   },
   "file_extension": ".py",
   "mimetype": "text/x-python",
   "name": "python",
   "nbconvert_exporter": "python",
   "pygments_lexer": "ipython3",
   "version": "3.11.0"
  }
 },
 "nbformat": 4,
 "nbformat_minor": 5
}
