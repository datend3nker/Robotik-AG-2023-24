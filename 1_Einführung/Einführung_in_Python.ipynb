{
 "cells": [
  {
   "cell_type": "markdown",
   "id": "8a13a998-3bdb-4f95-a75d-c369b3652bf3",
   "metadata": {},
   "source": [
    "# Lektion 1: Python - Die Grundlagen\n",
    "\n",
    "## Grundkonzept:\n",
    "In dieser Lektion werden wir die Grundlagen der Python-Programmierung kennenlernen. Das Ziel ist es, Python als Programmiersprache einzuführen und die Grundkonzepte der Programmierung in Python zu verstehen.\n",
    "\n",
    "## Aufgabe 1: Installation von Python und Jupyter Labs\n",
    "\n",
    "### Grundkonzept:\n",
    "Bevor wir mit dem Programmieren beginnen können, müssen wir Python und eine Entwicklungsumgebung installieren. Python ist die Programmiersprache, die wir verwenden werden, und Jupyter Labs ist die Entwicklungsumgebung, die es uns ermöglicht, Python-Code in interaktiven Notebooks auszuführen.\n",
    "\n",
    "### Schritt-für-Schritt-Anleitung zur Installation:\n",
    "1. **Python herunterladen und installieren:**\n",
    "   - Gehe auf die <a href=\"https://www.python.org/downloads/\" target=\"_blank\">offizielle Python-Website</a>.\n",
    "   - Lade die neueste stabile Version von Python für dein Betriebssystem herunter und starte den Installationsprozess.\n",
    "   - Wähle während der Installation die Option \"Add Python to PATH\" aus und folge den Anweisungen.\n",
    "\n",
    "2. **Jupyter Labs installieren:**\n",
    "   - Öffne deine Befehlszeile oder dein Terminal.\n",
    "   - Gib den Befehl `pip install jupyterlab` ein und drücke Enter.\n",
    "\n",
    "3. **Jupyter Labs starten:**\n",
    "   - Öffne deine Befehlszeile oder dein Terminal.\n",
    "   - Gib den Befehl `jupyter lab` ein und drücke Enter.\n",
    "\n",
    "<details>\n",
    "  <summary>Erklärung und Lösungshinweis</summary>\n",
    "  \n",
    "  Python ist die Programmiersprache, die wir verwenden werden, und Jupyter Labs ist eine beliebte Entwicklungsumgebung, die es uns ermöglicht, Python-Code in interaktiven Notebooks auszuführen. Die Schritte zur Installation von Python und Jupyter Labs sind wichtig, um mit dem Programmieren in Python zu beginnen. Stelle sicher, dass du sie sorgfältig befolgst.\n",
    "</details>\n",
    "\n",
    "Jetzt können wir mit Python loslegen!"
   ]
  },
  {
   "cell_type": "markdown",
   "id": "712cc440-d13e-4325-ac34-d72617fba9ae",
   "metadata": {},
   "source": [
    "## Lektion 2: Python-Grundlagen\n",
    "\n",
    "### Grundkonzept:\n",
    "In dieser Lektion werden wir die Grundlagen der Python-Programmierung verstehen. Wir beginnen mit einfachen Schritten und lernen, wie man Python-Code schreibt und ausführt.\n",
    "\n",
    "## Aufgabe 2: Erste Schritte in Python\n",
    "\n",
    "### Grundkonzept:\n",
    "- In Python verwenden wir die Funktion `print()`, um Text auf dem Bildschirm auszugeben.\n",
    "- Python-Code wird in sogenannten Zellen geschrieben und kann nacheinander ausgeführt werden.\n",
    "\n",
    "### Schritt-für-Schritt-Anleitung zur Ausführung von Python-Code in Jupyter Labs:\n",
    "1. **Neues Python-Notebook erstellen:**\n",
    "   - Starte Jupyter Labs und klicke auf das \"+\"-Symbol oben links.\n",
    "   - Wähle \"Python 3\" aus, um ein neues Python-Notebook zu erstellen.\n",
    "\n",
    "2. **Python-Code eingeben:**\n",
    "   - In der ersten Zelle kannst du Python-Code eingeben. Zum Beispiel: `print(\"Hallo, Welt!\")`.\n",
    "\n",
    "3. **Zelle ausführen:**\n",
    "   - Klicke auf die Zelle mit dem Code, den du ausführen möchtest.\n",
    "   - Drücke \"Shift + Enter\", um die Zelle auszuführen."
   ]
  },
  {
   "cell_type": "markdown",
   "id": "c2f34302-97b0-4fea-9507-d4507525d030",
   "metadata": {},
   "source": [
    "<details>\n",
    "  <summary>Lösungshinweis</summary>\n",
    "  Die zu verwendende Funktion heißt <code>print()</code>. Sie nimmt als Eingabe einen beliebigen Text.\n",
    "  Texte werden in Python mit <code>\"text\"</code> oder <code>'text'</code> angegeben!\n",
    "</details>"
   ]
  },
  {
   "cell_type": "code",
   "execution_count": 9,
   "id": "dc650733-03ee-44aa-a148-51fd3d9cfb65",
   "metadata": {},
   "outputs": [
    {
     "name": "stdout",
     "output_type": "stream",
     "text": [
      "Hallo, Welt!\n"
     ]
    }
   ],
   "source": [
    "# Hier deinen Pythoncode!"
   ]
  },
  {
   "cell_type": "markdown",
   "id": "fc68d20e-44e8-4d85-8e47-f1def699d784",
   "metadata": {
    "jp-MarkdownHeadingCollapsed": true
   },
   "source": [
    "### Erklärung:\n",
    "- Wir haben unsere erste Python-Zelle erstellt und \"Hallo, Welt!\" ausgegeben.\n",
    "- Das Ausführen einer Zelle führt den darin enthaltenen Code aus und gibt das Ergebnis aus."
   ]
  },
  {
   "cell_type": "markdown",
   "id": "97abfd17-a850-4353-b9d1-fd7abfaec006",
   "metadata": {},
   "source": [
    "## Grundlegender Python-Syntax und Arbeitsweise:\n",
    "\n",
    "### Python-Syntax:\n",
    "- Python verwendet Einrückungen (Whitespace oder Tabs), um Codeblöcke zu definieren, anstelle von geschweiften Klammern wie in einigen anderen Programmiersprachen.\n",
    "- Kommentare werden mit dem `#`-Symbol eingeleitet und sind Textstellen im Code, die vom Computer ignoriert werden.\n",
    "- Variablen werden deklariert, indem man ihnen einen Namen zuweist. Zum Beispiel: `name = \"Max\"`.\n",
    "\n",
    "### Python-Arbeitsweise:\n",
    "- Python liest den Code von oben nach unten und führt ihn aus.\n",
    "- Python führt Anweisungen in der Reihenfolge aus, in der sie im Code stehen.\n",
    "- Python zeigt Ausgaben auf dem Bildschirm an, wenn `print()` verwendet wird."
   ]
  },
  {
   "cell_type": "markdown",
   "id": "f8808f32-3766-4f88-9929-af4327e3f7df",
   "metadata": {},
   "source": [
    "<details>\n",
    "  <summary>Erklärung und Lösungshinweis</summary>\n",
    "  \n",
    "  Hier sind einige grundlegende Konzepte der Python-Syntax und Arbeitsweise:\n",
    "  - Python verwendet Einrückungen, um Codeblöcke zu definieren.\n",
    "  - Kommentare beginnen mit `#` und werden vom Computer ignoriert.\n",
    "  - Variablen werden durch Zuweisung erstellt, z.B. `name = \"Max\"`.\n",
    "</details>"
   ]
  },
  {
   "cell_type": "markdown",
   "id": "d2b89c62-70ca-47d6-bf79-0acb01782327",
   "metadata": {},
   "source": [
    "# Herzlichen Glückwunsch! Du hast gerade die ersten Schritte in Python gemacht und mehr über die Grundlagen der Python-Syntax und Arbeitsweise erfahren."
   ]
  }
 ],
 "metadata": {
  "kernelspec": {
   "display_name": "Python 3 (ipykernel)",
   "language": "python",
   "name": "python3"
  },
  "language_info": {
   "codemirror_mode": {
    "name": "ipython",
    "version": 3
   },
   "file_extension": ".py",
   "mimetype": "text/x-python",
   "name": "python",
   "nbconvert_exporter": "python",
   "pygments_lexer": "ipython3",
   "version": "3.11.0"
  }
 },
 "nbformat": 4,
 "nbformat_minor": 5
}
