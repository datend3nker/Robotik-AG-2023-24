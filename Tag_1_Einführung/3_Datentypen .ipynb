{
 "cells": [
  {
   "cell_type": "markdown",
   "id": "c0e7b5eb-27b9-4bef-b861-b557d27c8fd6",
   "metadata": {},
   "source": [
    "# Notebook 2: Datentypen in Python\n",
    "\n",
    "## Grundkonzept:\n",
    "In diesem Notebook werden wir die verschiedenen Datentypen in Python kennenlernen."
   ]
  },
  {
   "cell_type": "markdown",
   "id": "5a7650da-b2fe-4ae4-8afd-3655361dac27",
   "metadata": {},
   "source": [
    "## Aufgabe 1: Text (String) verwenden\n",
    "\n",
    "### Grundkonzept:\n",
    "Der Datentyp \"String\" wird verwendet, um Text in Python darzustellen.\n",
    "\n",
    "### Schritt-für-Schritt-Anleitung:\n",
    "1. Erstelle eine Variable `name` und weise ihr deinen Namen als Text zu.\n",
    "2. Verwende `print()`, um den Wert der `name`-Variable auszugeben.\n",
    "3. Erstelle eine Variable `nachname` und weise ihr deinen Nachnamen als Text zu.\n",
    "4. Was passiert, wenn du `name + nachname`rechnest?\n",
    "5. Was passiert, wenn du `3 * name`rechnest?"
   ]
  },
  {
   "cell_type": "code",
   "execution_count": null,
   "id": "93774f9b-81a5-40f3-a485-0a124ab6f77d",
   "metadata": {},
   "outputs": [],
   "source": [
    "# Hier deinen Pythoncode!"
   ]
  },
  {
   "cell_type": "markdown",
   "id": "fc4b31d7-2a15-47eb-8def-9e07109866e3",
   "metadata": {},
   "source": [
    "### Aufgabe 2: Ganze Zahlen (Integer) verwenden\n",
    "\n",
    "### Grundkonzept:\n",
    "Der Datentyp \"Integer\" wird verwendet, um ganze Zahlen in Python darzustellen.\n",
    "\n",
    "### Schritt-für-Schritt-Anleitung:\n",
    "1. Erstelle eine Variable `alter` und weise ihr dein Alter als ganze Zahl zu.\n",
    "2. Verwende `print()`, um den Wert der `alter`-Variable auszugeben.\n"
   ]
  },
  {
   "cell_type": "code",
   "execution_count": null,
   "id": "2a2f4224-d2ae-42bc-bfc5-cbc1e4ccfbda",
   "metadata": {},
   "outputs": [],
   "source": [
    "# Hier deinen Pythoncode!"
   ]
  },
  {
   "cell_type": "markdown",
   "id": "b4f84767-aabc-4d9e-81ae-925f8e822e67",
   "metadata": {},
   "source": [
    "### Aufgabe 3: Dezimalzahlen (Float) verwenden\n",
    "\n",
    "### Grundkonzept:\n",
    "Der Datentyp \"Float\" wird verwendet, um Dezimalzahlen in Python darzustellen.\n",
    "\n",
    "### Schritt-für-Schritt-Anleitung:\n",
    "1. Erstelle eine Variable `groesse` und weise ihr deine Körpergröße als Dezimalzahl zu.\n",
    "2. Verwende `print()`, um den Wert der `groesse`-Variable auszugeben."
   ]
  },
  {
   "cell_type": "code",
   "execution_count": null,
   "id": "db0a88dd-6a8b-4e17-b9d8-7e98386a4a73",
   "metadata": {},
   "outputs": [],
   "source": [
    "# Hier deinen Pythoncode!"
   ]
  }
 ],
 "metadata": {
  "kernelspec": {
   "display_name": "Python 3 (ipykernel)",
   "language": "python",
   "name": "python3"
  },
  "language_info": {
   "codemirror_mode": {
    "name": "ipython",
    "version": 3
   },
   "file_extension": ".py",
   "mimetype": "text/x-python",
   "name": "python",
   "nbconvert_exporter": "python",
   "pygments_lexer": "ipython3",
   "version": "3.11.0"
  }
 },
 "nbformat": 4,
 "nbformat_minor": 5
}
