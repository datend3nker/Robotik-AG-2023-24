{
 "cells": [
  {
   "cell_type": "markdown",
   "id": "44fbe9b6-4851-4d28-8bdd-0e83c9203cc0",
   "metadata": {},
   "source": [
    "# Notebook 3: Ausdrücke und Anweisungen in Python\n",
    "\n",
    "## Grundkonzept:\n",
    "In diesem Notebook werden wir Ausdrücke und Anweisungen in Python kennenlernen."
   ]
  },
  {
   "cell_type": "markdown",
   "id": "87d91583-885f-4c89-b937-733724735b04",
   "metadata": {},
   "source": [
    "## Aufgabe 1: Einfache Ausdrücke\n",
    "\n",
    "### Grundkonzept:\n",
    "Ein Ausdruck ist eine Kombination von Werten und Operatoren, die einen Wert ergibt.\n",
    "\n",
    "### Schritt-für-Schritt-Anleitung:\n",
    "1. Erstelle einen Ausdruck, der die Summe von 5 und 3 berechnet.\n",
    "2. Erstelle einen Ausdruck, der die Differenz von 10 und 4 berechnet.\n",
    "3. Erstelle einen Ausdruck, der das Produkt von 6 und 7 berechnet."
   ]
  },
  {
   "cell_type": "code",
   "execution_count": null,
   "id": "326c2187-d05a-48bb-b830-174dd195c34e",
   "metadata": {},
   "outputs": [],
   "source": [
    "# Hier deinen Pythoncode!"
   ]
  },
  {
   "cell_type": "markdown",
   "id": "9f37c5c7-413f-404f-ae19-9d4fbc589480",
   "metadata": {},
   "source": [
    "### Aufgabe 2: Anweisungen\n",
    "\n",
    "### Grundkonzept:\n",
    "Eine Anweisung ist eine Zeile Code, die eine Aktion ausführt.\n",
    "\n",
    "### Schritt-für-Schritt-Anleitung:\n",
    "1. Erstelle eine Anweisung, die den Text \"Hallo, Welt!\" mit `print()` ausgibt.\n",
    "2. Erstelle eine Anweisung, die den Wert der `groesse`-Variable mit `print()` ausgibt."
   ]
  },
  {
   "cell_type": "code",
   "execution_count": null,
   "id": "74ebcbf5-c835-4332-a001-8be3df1629ed",
   "metadata": {},
   "outputs": [],
   "source": [
    "# Hier deinen Pythoncode!"
   ]
  }
 ],
 "metadata": {
  "kernelspec": {
   "display_name": "Python 3 (ipykernel)",
   "language": "python",
   "name": "python3"
  },
  "language_info": {
   "codemirror_mode": {
    "name": "ipython",
    "version": 3
   },
   "file_extension": ".py",
   "mimetype": "text/x-python",
   "name": "python",
   "nbconvert_exporter": "python",
   "pygments_lexer": "ipython3",
   "version": "3.11.0"
  }
 },
 "nbformat": 4,
 "nbformat_minor": 5
}
