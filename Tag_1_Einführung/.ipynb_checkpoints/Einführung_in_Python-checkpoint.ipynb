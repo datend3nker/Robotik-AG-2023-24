{
 "cells": [
  {
   "cell_type": "markdown",
   "id": "29d8f09b-7de5-46ab-a348-7f8102fc8ffa",
   "metadata": {},
   "source": [
    "# Python-Grundlagen\n",
    "In dieser Lektion werden wir die Grundlagen der Python-Programmierung verstehen. Wir beginnen mit einfachen Schritten und lernen, wie man Python-Code schreibt und ausführt.\n",
    "\n",
    "## Aufgabe 2: Erste Schritte in Python\n",
    "\n",
    "### Grundkonzept:\n",
    "- In Python verwenden wir die Funktion `print()`, um Text auf dem Bildschirm auszugeben.\n",
    "- Python-Code wird in sogenannten Zellen geschrieben und kann nacheinander ausgeführt werden.\n",
    "\n",
    "### Schritt-für-Schritt-Anleitung zur Ausführung von Python-Code in Jupyter Labs:\n",
    "1. **Neues Python-Notebook erstellen:**\n",
    "   - Starte Jupyter Labs und klicke auf das \"+\"-Symbol oben links.\n",
    "   - Wähle \"Python 3\" aus, um ein neues Python-Notebook zu erstellen.\n",
    "\n",
    "2. **Python-Code eingeben:**\n",
    "   - In der ersten Zelle kannst du Python-Code eingeben. Zum Beispiel: `print(\"Hallo, Welt!\")`.\n",
    "\n",
    "3. **Zelle ausführen:**\n",
    "   - Klicke auf die Zelle mit dem Code, den du ausführen möchtest.\n",
    "   - Drücke \"Shift + Enter\", um die Zelle auszuführen."
   ]
  },
  {
   "cell_type": "code",
   "execution_count": null,
   "id": "20c91981-9d43-4278-a136-d03b43078229",
   "metadata": {},
   "outputs": [],
   "source": [
    "print(\"Hallo, Welt!\")"
   ]
  },
  {
   "cell_type": "markdown",
   "id": "c140612a-8ab4-42b6-a4e0-f8d0c0ee4c43",
   "metadata": {},
   "source": [
    "### Erklärung:\n",
    "- Wir haben unsere erste Python-Zelle erstellt und \"Hallo, Welt!\" ausgegeben.\n",
    "- Das Ausführen einer Zelle führt den darin enthaltenen Code aus und gibt das Ergebnis aus."
   ]
  }
 ],
 "metadata": {
  "kernelspec": {
   "display_name": "Python 3 (ipykernel)",
   "language": "python",
   "name": "python3"
  },
  "language_info": {
   "codemirror_mode": {
    "name": "ipython",
    "version": 3
   },
   "file_extension": ".py",
   "mimetype": "text/x-python",
   "name": "python",
   "nbconvert_exporter": "python",
   "pygments_lexer": "ipython3",
   "version": "3.11.0"
  }
 },
 "nbformat": 4,
 "nbformat_minor": 5
}
