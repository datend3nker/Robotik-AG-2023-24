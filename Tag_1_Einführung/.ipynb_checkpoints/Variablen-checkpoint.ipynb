{
 "cells": [
  {
   "cell_type": "markdown",
   "id": "467b6550-ad48-419e-92a0-06974ec949bd",
   "metadata": {},
   "source": [
    "# Notebook 1: Variablen in Python\n",
    "\n",
    "## Grundkonzept:\n",
    "In diesem Notebook werden wir das Konzept von Variablen in Python kennenlernen."
   ]
  },
  {
   "cell_type": "markdown",
   "id": "cf4f93f7-3981-4006-972b-aa03766b64df",
   "metadata": {},
   "source": [
    "## Aufgabe 1: Variablen erstellen und Werte zuweisen\n",
    "\n",
    "### Grundkonzept:\n",
    "Variablen werden verwendet, um Daten in Python zu speichern. Wir können Text, Zahlen und andere Daten in Variablen speichern.\n",
    "\n",
    "### Schritt-für-Schritt-Anleitung:\n",
    "1. Erstelle eine Variable namens `name` und weise ihr deinen Namen als Text zu.\n",
    "2. Erstelle eine Variable namens `alter` und weise ihr dein Alter als ganze Zahl zu.\n",
    "3. Erstelle eine Variable namens `groesse` und weise ihr deine Körpergröße als Dezimalzahl zu."
   ]
  },
  {
   "cell_type": "code",
   "execution_count": 1,
   "id": "1b4b258d-3437-41b5-ab51-5376733bdf07",
   "metadata": {},
   "outputs": [],
   "source": [
    "# Hier deinen Pythoncode!"
   ]
  },
  {
   "cell_type": "markdown",
   "id": "7bb5dd13-978c-44de-bb10-c1afb3204da6",
   "metadata": {},
   "source": [
    "### Aufgabe 2: Variablen anzeigen\n",
    "\n",
    "### Grundkonzept:\n",
    "Um den Wert einer Variable anzuzeigen, verwenden wir die Funktion `print()`.\n",
    "\n",
    "### Schritt-für-Schritt-Anleitung:\n",
    "1. Verwende `print()`, um den Wert der `name`-Variable auszugeben.\n",
    "2. Verwende `print()`, um den Wert der `alter`-Variable auszugeben.\n",
    "3. Verwende `print()`, um den Wert der `groesse`-Variable auszugeben."
   ]
  },
  {
   "cell_type": "code",
   "execution_count": null,
   "id": "22c385b5-aae4-4ce5-b97c-4998c4f8c36a",
   "metadata": {},
   "outputs": [],
   "source": [
    "# Hier deinen Pythoncode!"
   ]
  }
 ],
 "metadata": {
  "kernelspec": {
   "display_name": "Python 3 (ipykernel)",
   "language": "python",
   "name": "python3"
  },
  "language_info": {
   "codemirror_mode": {
    "name": "ipython",
    "version": 3
   },
   "file_extension": ".py",
   "mimetype": "text/x-python",
   "name": "python",
   "nbconvert_exporter": "python",
   "pygments_lexer": "ipython3",
   "version": "3.11.0"
  }
 },
 "nbformat": 4,
 "nbformat_minor": 5
}
