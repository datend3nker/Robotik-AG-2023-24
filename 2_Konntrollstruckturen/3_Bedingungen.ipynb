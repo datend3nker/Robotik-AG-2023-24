{
 "cells": [
  {
   "cell_type": "markdown",
   "id": "d6c872f4-6a48-4eb3-849f-09c55fa7cdbc",
   "metadata": {},
   "source": [
    "# Notebook 3: Bedingungen (if, else, elif) in Python\n",
    "\n",
    "## Grundkonzept:\n",
    "In diesem Notebook werden wir die Verwendung von Bedingungen (if, else, elif) in Python kennenlernen. Bedingungen ermöglichen es uns, Codeblöcke nur dann auszuführen, wenn bestimmte Bedingungen erfüllt sind.\n",
    "\n",
    "### Grundsyntax:\n",
    "Die grundlegende Syntax für Bedingungen in Python ist wie folgt:\n",
    "\n",
    "```python\n",
    "if Bedingung:\n",
    "    # Code wird ausgeführt, wenn die Bedingung wahr ist\n",
    "else:\n",
    "    # Code wird ausgeführt, wenn die Bedingung falsch ist\n",
    "```\n",
    "\n",
    "### Erweiterte Bedingungen mit `elif`:\n",
    "Wir können auch `elif` verwenden, um zusätzliche Bedingungen zu überprüfen. Wenn die erste Bedingung falsch ist, aber die `elif`-Bedingung wahr ist, wird der zugehörige Codeblock ausgeführt.\n",
    "\n",
    "```python\n",
    "if Bedingung1:\n",
    "    # Code wird ausgeführt, wenn Bedingung1 wahr ist\n",
    "elif Bedingung2:\n",
    "    # Code wird ausgeführt, wenn Bedingung1 falsch, aber Bedingung2 wahr ist\n",
    "else:\n",
    "    # Code wird ausgeführt, wenn keine der Bedingungen wahr ist\n",
    "```\n",
    "\n",
    "## Aufgabe 1: Einfache Bedingung\n",
    "\n",
    "### Aufgabenstellung:\n",
    "1. Erstelle eine Variable `zahl` und weise ihr den Wert 10 zu.\n",
    "2. Schreibe eine Bedingung, die überprüft, ob `zahl` größer als 5 ist. Wenn die Bedingung wahr ist, gib \"Die Zahl ist größer als 5\" aus, sonst gib \"Die Zahl ist nicht größer als 5\" aus."
   ]
  },
  {
   "cell_type": "code",
   "execution_count": null,
   "id": "941f76b2-044b-4089-811c-647fb3678cc7",
   "metadata": {},
   "outputs": [],
   "source": [
    "# code hier eingeben"
   ]
  },
  {
   "cell_type": "markdown",
   "id": "56ab6c22-4f5d-46bd-ac2e-eca660389ac8",
   "metadata": {},
   "source": [
    "## Aufgabe 2: Mehrere Bedingungen\n",
    "\n",
    "### Aufgabenstellung:\n",
    "1. Erstelle eine Variable `note` und weise ihr den Wert 85 zu (angenommen, dies ist eine Schülernote).\n",
    "2. Schreibe eine Bedingung, die folgende Ausgaben je nach der Note generiert:\n",
    "   - Wenn die Note größer oder gleich 90 ist, gib \"Sehr gut!\" aus.\n",
    "   - Wenn die Note zwischen 80 und 89 liegt, gib \"Gut!\" aus.\n",
    "   - Wenn die Note zwischen 70 und 79 liegt, gib \"Befriedigend\" aus.\n",
    "   - Wenn die Note zwischen 60 und 69 liegt, gib \"Ausreichend\" aus.\n",
    "   - Wenn die Note kleiner als 60 ist, gib \"Durchgefallen\" aus."
   ]
  },
  {
   "cell_type": "code",
   "execution_count": null,
   "id": "fa01edae-5fa6-477b-8f71-d51d14f684b9",
   "metadata": {},
   "outputs": [],
   "source": [
    "# code bitte eingeben"
   ]
  },
  {
   "cell_type": "markdown",
   "id": "ed9f584e-ca71-44d2-bee9-648c175ec5d1",
   "metadata": {},
   "source": [
    "## Aufgabe 3: Überprüfung einer Bedingung\n",
    "\n",
    "### Aufgabenstellung:\n",
    "1. Erstelle eine Variable `text` und weise ihr einen beliebigen Text zu.\n",
    "2. Schreibe eine Bedingung, die überprüft, ob der Text \"Python\" enthält. Wenn ja, gib \"Der Text enthält Python\" aus, ansonsten gib \"Der Text enthält kein Python\" aus."
   ]
  },
  {
   "cell_type": "markdown",
   "id": "2797aef8-9dd5-4e6b-a809-17343f0ab6b0",
   "metadata": {},
   "source": [
    "<details>\n",
    "  <summary>Erklärung und Lösungshinweis</summary>\n",
    "    \n",
    "Um zu Teste, ob ein Buchstabe oder Wort in einem anderen Word vorhannden ist, wird er Opperator `in` verwendet.\n",
    "```python\n",
    ">>> \"a\" in \"Hallo\"\n",
    "True  # a ist in Hallo entahlten\n",
    "``` \n",
    "</details>"
   ]
  },
  {
   "cell_type": "code",
   "execution_count": null,
   "id": "6cf527e5-a7ae-4cd1-a2e6-95576ea6a904",
   "metadata": {},
   "outputs": [],
   "source": [
    "# code hier bitte eingeben"
   ]
  },
  {
   "cell_type": "markdown",
   "id": "1702f6d8-0593-46e6-9783-03e4838aa68d",
   "metadata": {},
   "source": [
    "## Aufgabe 4: Verschachtelte Bedingungen\n",
    "\n",
    "### Aufgabenstellung:\n",
    "1. Erstelle eine Variable `zahl` und weise ihr den Wert 15 zu.\n",
    "2. Erstelle eine Variable `teiler` und weise ihr den Wert 3 zu.\n",
    "3. Schreibe eine Bedingung, die überprüft, ob `zahl` durch `teiler` ohne Rest teilbar ist. Wenn ja, gib \"Die Zahl ist durch 3 teilbar\" aus. Wenn nicht, gib \"Die Zahl ist nicht durch 3 teilbar\" aus."
   ]
  },
  {
   "cell_type": "markdown",
   "id": "8b7ac30b-a161-4ecf-b088-dab78f4b50bc",
   "metadata": {},
   "source": [
    "<details>\n",
    "  <summary>Erklärung und Lösungshinweis</summary>\n",
    "  \n",
    "  Um die Teilbarkeit zu testen, benutzen wir in Python den `%`. \n",
    "  Dieser berechnet den Rest einer Division.\n",
    "  Angenommen, wir haben die Division 10 / 3. Wenn wir diese Division durchführen, erhalten wir ein Ergebnis von 3 mit einem Rest von 1. Das bedeutet, dass 3 mal 3 gleich 9 ist, und wir haben noch eine übriggebliebene 1. Um diesen Rest in Python zu berechnen, verwenden wir den Modulo-Operator:\n",
    "\n",
    "```python\n",
    ">>> 10 % 3\n",
    "1\n",
    "```\n",
    "\n",
    "In diesem Beispiel gibt `10 % 3` den Wert 1 zurück, weil 10 durch 3 geteilt wird und der Rest 1 beträgt.\n",
    "\n",
    "Hier sind einige weitere Beispiele:\n",
    "\n",
    "```python\n",
    ">>> 15 % 7\n",
    "1\n",
    "\n",
    ">>> 20 % 4\n",
    "0\n",
    "```\n",
    "\n",
    "- `15 % 7` gibt 1 zurück, weil 15 durch 7 geteilt wird und der Rest 1 beträgt.\n",
    "- `20 % 4` gibt 0 zurück, weil 20 durch 4 geteilt wird und es keinen Rest gibt.\n",
    "\n",
    "Der Modulo-Operator ist besonders nützlich, wenn wir überprüfen möchten, ob eine Zahl gerade oder ungerade ist. Wenn eine Zahl modulo 2 gleich 0 ist, ist sie gerade, andernfalls ist sie ungerade.\n",
    "\n",
    "```python\n",
    ">>> 6 % 2\n",
    "0  # 6 ist gerade\n",
    "\n",
    ">>> 7 % 2\n",
    "1  # 7 ist ungerade\n",
    "```\n",
    "</details>"
   ]
  },
  {
   "cell_type": "code",
   "execution_count": 1,
   "id": "c12fb93f-f905-4e02-b27a-b4de15fb7ab0",
   "metadata": {},
   "outputs": [],
   "source": [
    "# code hier bitte"
   ]
  },
  {
   "cell_type": "markdown",
   "id": "ba7a5f95-5ad7-40ef-a771-eacbef3ee288",
   "metadata": {},
   "source": [
    "## Aufgabe 5: Komplexe Bedingungen\n",
    "\n",
    "### Aufgabenstellung:\n",
    "1. Erstelle eine Variable `alter` und weise ihr den Wert 18 zu.\n",
    "2. Erstelle eine Variable `ausweis` und weise ihr den Wert True zu (angenommen, der Benutzer hat einen Ausweis).\n",
    "3. Schreibe eine Bedingung, die überprüft, ob die Person alt genug ist, um in einen Club zu gehen. Die Bedingung sollte folgende Kriterien erfüllen:\n",
    "   - Die Person muss mindestens 18 Jahre alt sein.\n",
    "   - Wenn die Person jünger als 18 ist, sollte sie einen Ausweis haben.\n",
    "4. Gib entsprechende Ausgaben basierend auf der Bedingung aus."
   ]
  },
  {
   "cell_type": "code",
   "execution_count": null,
   "id": "895fac6a-8aec-48f9-a20a-3ae413e56c1c",
   "metadata": {},
   "outputs": [],
   "source": [
    "# code hier bitte"
   ]
  }
 ],
 "metadata": {
  "kernelspec": {
   "display_name": "Python 3 (ipykernel)",
   "language": "python",
   "name": "python3"
  },
  "language_info": {
   "codemirror_mode": {
    "name": "ipython",
    "version": 3
   },
   "file_extension": ".py",
   "mimetype": "text/x-python",
   "name": "python",
   "nbconvert_exporter": "python",
   "pygments_lexer": "ipython3",
   "version": "3.11.0"
  }
 },
 "nbformat": 4,
 "nbformat_minor": 5
}
