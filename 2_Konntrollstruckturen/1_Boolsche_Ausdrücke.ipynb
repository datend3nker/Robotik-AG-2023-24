{
 "cells": [
  {
   "cell_type": "markdown",
   "id": "1cab8707-48d9-44e9-a49e-5469b40f3db9",
   "metadata": {},
   "source": [
    "# Notebook 1: Boolesche Ausdrücke und Boolesche Algebra in Python\n",
    "\n",
    "## Grundkonzept:\n",
    "In diesem Notebook werden wir boolesche Ausdrücke und boolesche Algebra in Python kennenlernen.\n",
    "\n",
    "### Was sind Boolesche Ausdrücke?\n",
    "Boolesche Ausdrücke sind Ausdrücke, die entweder wahr (True) oder falsch (False) sind. In Python werden sie häufig verwendet, um Bedingungen auszudrücken oder Entscheidungen zu treffen.\n",
    "\n",
    "### Wann ergibt ein logisches Gatter \"wahr\"?\n",
    "Um zu verstehen, wann ein logisches Gatter wahr ergibt, betrachten wir die grundlegenden logischen Operatoren:\n",
    "\n",
    "1. **AND (und) - `and`:** Das logische Gatter \"and\" ergibt \"wahr\" (True), wenn beide Operanden \"wahr\" sind. Andernfalls ergibt es \"falsch\" (False). Beispiel: `True and True` ergibt True, `True and False` ergibt False.\n",
    "\n",
    "2. **OR (oder) - `or`:** Das logische Gatter \"or\" ergibt \"wahr\", wenn mindestens einer der Operanden \"wahr\" ist. Es ergibt \"falsch\", wenn beide Operanden \"falsch\" sind. Beispiel: `True or False` ergibt True, `False or False` ergibt False.\n",
    "\n",
    "3. **NOT (nicht) - `not`:** Das logische Gatter \"not\" kehrt den Wert des Operanden um. Wenn der Operand \"wahr\" ist, ergibt \"not\" False, und wenn der Operand \"falsch\" ist, ergibt \"not\" True. Beispiel: `not True` ergibt False, `not False` ergibt True.\n",
    "\n",
    "## Aufgabe 1: Grundlagen der Booleschen Algebra\n",
    "\n",
    "### Aufgabenstellung:\n",
    "1. Erstelle eine boolesche Variable `wahr` und weise ihr den Wert True zu.\n",
    "2. Erstelle eine boolesche Variable `falsch` und weise ihr den Wert False zu.\n",
    "3. Erstelle eine boolesche Variable `ergebnis` und weise ihr das Ergebnis von `wahr and falsch` zu. Was ist das Ergebnis?"
   ]
  },
  {
   "cell_type": "code",
   "execution_count": null,
   "id": "90382bc4-ca67-493e-9f08-1232024ae49d",
   "metadata": {},
   "outputs": [],
   "source": [
    "# Code hier eingeben!"
   ]
  },
  {
   "cell_type": "markdown",
   "id": "0398f2e1-63fd-4d16-a494-88053bab2a37",
   "metadata": {},
   "source": [
    "## Aufgabe 2: Vergleichsoperatoren\n",
    "\n",
    "### Grundkonzept:\n",
    "Vergleichsoperatoren werden verwendet, um Werte zu vergleichen und boolesche Ausdrücke zu erstellen.\n",
    "\n",
    "### Wichtige Vergleichsoperatoren:\n",
    "- **Größer als (`>`):** Vergleicht, ob der linke Wert größer ist als der rechte Wert. Beispiel: `5 > 3` ergibt True.\n",
    "- **Kleiner als (`<`):** Vergleicht, ob der linke Wert kleiner ist als der rechte Wert. Beispiel: `2 < 7` ergibt True.\n",
    "- **Größer oder gleich (`>=`):** Vergleicht, ob der linke Wert größer oder gleich dem rechten Wert ist. Beispiel: `10 >= 10` ergibt True.\n",
    "- **Kleiner oder gleich (`<=`):** Vergleicht, ob der linke Wert kleiner oder gleich dem rechten Wert ist. Beispiel: `4 <= 3` ergibt False.\n",
    "- **Gleich (`==`):** Vergleicht, ob die beiden Werte gleich sind. Beispiel: `5 == 5` ergibt True.\n",
    "- **Ungleich (`!=`):** Vergleicht, ob die beiden Werte ungleich sind. Beispiel: `3 != 7` ergibt True.\n",
    "\n",
    "### Aufgaben:\n",
    "1. Erstelle eine Variable `zahl1` und weise ihr den Wert 10 zu.\n",
    "2. Erstelle eine Variable `zahl2` und weise ihr den Wert 5 zu.\n",
    "3. Erstelle eine boolesche Variable `groesser` und weise ihr das Ergebnis von `zahl1 > zahl2` zu.\n",
    "4. Erstelle eine boolesche Variable `kleiner` und weise ihr das Ergebnis von `zahl1 < zahl2` zu.\n",
    "5. Erstelle eine boolesche Variable `gleich` und weise ihr das Ergebnis von `zahl1 == zahl2` zu.\n"
   ]
  },
  {
   "cell_type": "code",
   "execution_count": null,
   "id": "e0e36ba6-8677-4dba-b955-a9603ca11d99",
   "metadata": {},
   "outputs": [],
   "source": [
    "# Code hier eingeben"
   ]
  },
  {
   "cell_type": "markdown",
   "id": "0827c216-3241-459a-8554-cc321c54c835",
   "metadata": {},
   "source": [
    "## Aufgabe 3: Logische Operatoren\n",
    "\n",
    "### Aufgabenstellung:\n",
    "1. Erstelle eine boolesche Variable `bedingung1` und weise ihr den Wert True zu.\n",
    "2. Erstelle eine boolesche Variable `bedingung2` und weise ihr den Wert False zu.\n",
    "3. Erstelle eine boolesche Variable `ergebnis1` und weise ihr das Ergebnis von `bedingung1 and bedingung2` zu. Was ist das Ergebnis?\n",
    "4. Erstelle eine boolesche Variable `ergebnis2` und weise ihr das Ergebnis von `bedingung1 or bedingung2` zu. Was ist das Ergebnis?"
   ]
  },
  {
   "cell_type": "code",
   "execution_count": null,
   "id": "57b2b45d-dca5-4a07-a42f-85f7ac2701c4",
   "metadata": {},
   "outputs": [],
   "source": [
    "# Code heir eingeben"
   ]
  },
  {
   "cell_type": "markdown",
   "id": "cdbd4749-ed67-43ae-8bda-7ef474f9e6b7",
   "metadata": {},
   "source": [
    "## Aufgabe 4: Nicht-Operatoren\n",
    "\n",
    "### Aufgabenstellung:\n",
    "1. Erstelle eine boolesche Variable `bedingung` und weise ihr den Wert True zu.\n",
    "2. Erstelle eine boolesche Variable `negation` und weise ihr das Ergebnis von `not bedingung` zu. Was ist das Ergebnis?\n"
   ]
  },
  {
   "cell_type": "code",
   "execution_count": null,
   "id": "177b63da-aab3-4156-ac6d-f37108944edd",
   "metadata": {},
   "outputs": [],
   "source": [
    "# Code hier eingeben"
   ]
  }
 ],
 "metadata": {
  "kernelspec": {
   "display_name": "Python 3 (ipykernel)",
   "language": "python",
   "name": "python3"
  },
  "language_info": {
   "codemirror_mode": {
    "name": "ipython",
    "version": 3
   },
   "file_extension": ".py",
   "mimetype": "text/x-python",
   "name": "python",
   "nbconvert_exporter": "python",
   "pygments_lexer": "ipython3",
   "version": "3.11.0"
  }
 },
 "nbformat": 4,
 "nbformat_minor": 5
}
