{
 "cells": [
  {
   "cell_type": "markdown",
   "metadata": {},
   "source": [
    "### Übungsnotebook: Vertiefung von `for`-Schleifen mit Datenstrukturen\n",
    "\n",
    "#### Übung 1: Listen und `range`\n",
    "\n",
    "Erkläre: `range` ist eine Funktion, die eine Sequenz von Zahlen generiert. Sie wird oft in Verbindung mit `for`-Schleifen verwendet, um eine bestimmte Anzahl von Iterationen zu steuern.\n",
    "\n",
    "In dieser Aufgabe erstellen wir eine Liste von 1 bis 10 mithilfe von `range` und iterieren dann über sie mit einer `for`-Schleife. Die Syntax sieht so aus:\n",
    "\n",
    "```python\n",
    "for zahl in range(start, end, step):\n",
    "    # Code, der für jede Zahl ausgeführt wird\n",
    "```\n",
    "\n",
    "1. `start`: Der Anfangswert der Sequenz (einschließlich).\n",
    "2. `end`: Das Ende der Sequenz (ausschließlich).\n",
    "3. `step`: Der Schritt, mit dem die Zahlen erhöht werden (Standardmäßig 1).\n",
    "\n",
    "Gib die Quadratzahlen der Zahlen von 1 bis 10 aus."
   ]
  },
  {
   "cell_type": "code",
   "execution_count": null,
   "metadata": {},
   "outputs": [],
   "source": []
  },
  {
   "cell_type": "markdown",
   "metadata": {},
   "source": [
    "#### Übung 2: Listen und `enumerate`\n",
    "\n",
    "Erkläre: `enumerate` ist eine Funktion, die sowohl den Wert als auch den Index eines Elements in einer Sequenz zurückgibt. Sie wird oft verwendet, wenn du den Index eines Elements in einer `for`-Schleife benötigst.\n",
    "\n",
    "In dieser Aufgabe erstellen wir eine Liste von Tieren und iterieren über sie mit `enumerate`. Die Syntax sieht so aus:\n",
    "\n",
    "```python\n",
    "for index, element in enumerate(sequence):\n",
    "    # Code, der für jedes Element ausgeführt wird\n",
    "```\n",
    "\n",
    "Gib sowohl den Index als auch das Tier aus."
   ]
  },
  {
   "cell_type": "code",
   "execution_count": null,
   "metadata": {},
   "outputs": [],
   "source": []
  },
  {
   "cell_type": "markdown",
   "metadata": {},
   "source": [
    "#### Übung 3: Tupel und `enumerate`\n",
    "\n",
    "Erkläre: `enumerate` kann auch mit Tupeln verwendet werden. Es funktioniert genauso wie bei Listen. In dieser Übung verwenden wir ein Tupel von Obstsorten und `enumerate`:\n",
    "\n",
    "Gib sowohl den Index als auch die Obstsorte aus."
   ]
  },
  {
   "cell_type": "code",
   "execution_count": null,
   "metadata": {},
   "outputs": [],
   "source": []
  },
  {
   "cell_type": "markdown",
   "metadata": {},
   "source": [
    "#### Übung 4: Dictionaries und `items`\n",
    "\n",
    "Erkläre: `items` ist eine Methode, die verwendet wird, um sowohl Schlüssel als auch Werte aus einem Dictionary zurückzugeben. Sie wird oft in Verbindung mit `for`-Schleifen verwendet, wenn du sowohl den Schlüssel als auch den Wert benötigst.\n",
    "\n",
    "In dieser Aufgabe erstellen wir ein Dictionary von Ländern und ihren Hauptstädten und iterieren über sie mit `items`.\n",
    "\n",
    "Gib sowohl das Land als auch die Hauptstadt aus."
   ]
  },
  {
   "cell_type": "code",
   "execution_count": null,
   "metadata": {},
   "outputs": [],
   "source": []
  },
  {
   "cell_type": "markdown",
   "metadata": {},
   "source": [
    "#### Übung 5: Listen und `zip`\n",
    "\n",
    "Erkläre: `zip` ist eine Funktion, die verwendet wird, um Elemente aus mehreren Sequenzen paarweise zu kombinieren. Sie erstellt Tupel, die jeweils ein Element aus jeder Sequenz enthalten.\n",
    "\n",
    "In dieser Aufgabe erstellen wir zwei Listen, eine mit Vornamen und eine mit Nachnamen, und kombinieren sie mit `zip`.\n",
    "\n",
    "Gib die vollständigen Namen aus."
   ]
  },
  {
   "cell_type": "code",
   "execution_count": null,
   "metadata": {},
   "outputs": [],
   "source": []
  },
  {
   "cell_type": "markdown",
   "metadata": {},
   "source": [
    "#### Übung 6: Dictionaries und `values`\n",
    "\n",
    "Erkläre: `values` ist eine Methode, die verwendet wird, um alle Werte aus einem Dictionary zurückzugeben. Sie wird oft in Verbindung mit `for`-Schleifen verwendet, wenn du nur die Werte benötigst.\n",
    "\n",
    "In dieser Aufgabe erstellen wir ein Dictionary von Produkten und ihren Preisen und iterieren über die Preise mit `values`.\n",
    "\n",
    "Gib nur die Preise aus."
   ]
  },
  {
   "cell_type": "code",
   "execution_count": null,
   "metadata": {},
   "outputs": [],
   "source": []
  },
  {
   "cell_type": "markdown",
   "metadata": {},
   "source": [
    "#### Übung 7: Listen und `break`\n",
    "\n",
    "Erkläre: `break` ist ein Schlüsselwort, das verwendet wird, um eine Schleife vorzeitig zu beenden, wenn eine bestimmte Bedingung erfüllt ist. Es wird oft verwendet, um aus einer Schleife auszubrechen, wenn ein bestimmtes Kriterium erreicht ist.\n",
    "\n",
    "In dieser Aufgabe erstellen wir eine Liste von Zahlen und verwenden `break`, um die Schleife vorzeitig zu beenden, wenn eine gerade Zahl gefunden wird."
   ]
  },
  {
   "cell_type": "code",
   "execution_count": null,
   "metadata": {},
   "outputs": [],
   "source": []
  },
  {
   "cell_type": "markdown",
   "metadata": {},
   "source": [
    "#### Übung 8: Listen und `continue`\n",
    "\n",
    "Erkläre: `continue` ist ein Schlüsselwort, das verwendet wird, um den aktuellen Durchlauf einer Schleife zu überspringen und zum nächsten Durchlauf zu wechseln. Es wird oft verwendet, um bestimmte Elemente in einer Schleife zu ignorieren.\n",
    "\n",
    "In dieser Aufgabe erstellen wir eine Liste von Zahlen und verwenden `continue`, um die Ausgabe zu überspringen, wenn die Zahl gerade ist."
   ]
  },
  {
   "cell_type": "code",
   "execution_count": null,
   "metadata": {},
   "outputs": [],
   "source": []
  }
 ],
 "metadata": {
  "language_info": {
   "name": "python"
  },
  "orig_nbformat": 4
 },
 "nbformat": 4,
 "nbformat_minor": 2
}
