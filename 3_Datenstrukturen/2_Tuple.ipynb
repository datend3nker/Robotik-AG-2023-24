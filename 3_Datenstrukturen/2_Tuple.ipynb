{
 "cells": [
  {
   "cell_type": "markdown",
   "metadata": {},
   "source": [
    "# Notebook 6: Tupel in Python\n",
    "\n",
    "## Grundkonzept:\n",
    "In diesem Notebook werden wir die Verwendung von Tupeln in Python kennenlernen. Tupel sind ähnlich wie Listen, aber unveränderlich.\n",
    "\n",
    "### Grundsynta:\n",
    "Die grundlegende Syntax für Tupel in Python ist wie folgt:\n",
    "\n",
    "```python\n",
    "mein_tupel = (element1, element2, element3)\n",
    "```\n",
    "\n",
    "### Tupelindizes:\n",
    "Tupelindizes funktionieren genauso wie Listenindizes.\n",
    "\n",
    "### Verwendung von for-Schleifen:\n",
    "`for`-Schleifen können verwendet werden, um durch alle Elemente eines Tupels zu iterieren. Hier ist ein Beispiel:\n",
    "\n",
    "```python\n",
    "wochentage = (\"Montag\", \"Dienstag\", \"Mittwoch\", \"Donnerstag\", \"Freitag\")\n",
    "for tag in wochentage:\n",
    "    print(tag)\n",
    "```\n",
    "\n",
    "### Spezielle Funktionen für for-Schleifen:\n",
    "Für Tupel gibt es keine speziellen Funktionen wie `enumerate` oder `range`, da Tupel unveränderlich sind.\n",
    "\n",
    "## Aufgabe 1: Erstellen eines Tupels\n",
    "Erstelle ein Tupel mit den Namen von Wochentagen und gib es aus."
   ]
  },
  {
   "cell_type": "code",
   "execution_count": null,
   "metadata": {
    "vscode": {
     "languageId": "plaintext"
    }
   },
   "outputs": [],
   "source": []
  },
  {
   "cell_type": "markdown",
   "metadata": {},
   "source": [
    "## Aufgabe 2: Zugriff auf Tuppellemente\n",
    "Greife auf das dritte Element des Tupels zu und gib es aus."
   ]
  },
  {
   "cell_type": "code",
   "execution_count": null,
   "metadata": {
    "vscode": {
     "languageId": "plaintext"
    }
   },
   "outputs": [],
   "source": []
  },
  {
   "cell_type": "markdown",
   "metadata": {},
   "source": [
    "## Aufgabe 3: Tupel verändern (nicht möglich)\n",
    "Versuche, das zweite Element des Tupels zu ändern (Hinweis: Tupel sind unveränderlich)."
   ]
  },
  {
   "cell_type": "code",
   "execution_count": null,
   "metadata": {
    "vscode": {
     "languageId": "plaintext"
    }
   },
   "outputs": [],
   "source": []
  },
  {
   "cell_type": "markdown",
   "metadata": {},
   "source": [
    "## Aufgabe 4: Tupellänge\n",
    "Ermittle die Länge des Tupels und gib sie aus."
   ]
  },
  {
   "cell_type": "code",
   "execution_count": null,
   "metadata": {
    "vscode": {
     "languageId": "plaintext"
    }
   },
   "outputs": [],
   "source": []
  },
  {
   "cell_type": "markdown",
   "metadata": {},
   "source": [
    "## Aufgabe 5: Elemente hinzufügen (nicht möglich)\n",
    "Versuche, ein neues Element zum Tupel hinzuzufügen (Hinweis: Tupel sind unveränderlich)."
   ]
  },
  {
   "cell_type": "code",
   "execution_count": null,
   "metadata": {
    "vscode": {
     "languageId": "plaintext"
    }
   },
   "outputs": [],
   "source": []
  }
 ],
 "metadata": {
  "language_info": {
   "name": "python"
  },
  "orig_nbformat": 4
 },
 "nbformat": 4,
 "nbformat_minor": 2
}
