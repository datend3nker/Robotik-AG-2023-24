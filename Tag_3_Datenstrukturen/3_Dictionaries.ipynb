{
 "cells": [
  {
   "cell_type": "markdown",
   "metadata": {},
   "source": [
    "# Notebook 7: Dictionaries in Python\n",
    "\n",
    "## Grundkonzept:\n",
    "In diesem Notebook werden wir die Verwendung von Dictionaries in Python kennenlernen. Dictionaries sind Datenstrukturen, die es ermöglichen, Schlüssel-Wert-Paare zu speichern.\n",
    "\n",
    "### Grundsynta:\n",
    "Die grundlegende Syntax für Dictionaries in Python ist wie folgt:\n",
    "\n",
    "```python\n",
    "mein_dict = {\"Schlüssel1\": wert1, \"Schlüssel2\": wert2, \"Schlüssel3\": wert3}\n",
    "```\n",
    "\n",
    "### Zugriff auf Werte:\n",
    "Dictionaries ermöglichen den Zugriff auf Werte über ihre Schlüssel.\n",
    "\n",
    "### Verwendung von for-Schleifen:\n",
    "`for`-Schleifen können verwendet werden, um durch alle Schlüssel oder Werte eines Dictionaries zu iterieren. Hier sind Beispiele:\n",
    "\n",
    "```python\n",
    "personen = {\"Alice\": 30, \"Bob\": 25, \"Eve\": 28}\n",
    "\n",
    "# Iteration über Schlüssel\n",
    "for name in personen:\n",
    "    print(name)\n",
    "\n",
    "# Iteration über Werte\n",
    "for alter in personen.values():\n",
    "    print(alter)\n",
    "```\n",
    "\n",
    "### Spezielle Funktionen für for-Schleifen:\n",
    "Python bietet einige spezielle Funktionen für `for`-Schleifen mit Dictionaries, wie `items`.\n",
    "\n",
    "## Aufgabe 1: Erstellen eines Dictionaries\n",
    "Erstelle ein Dictionary mit den Namen und Alter von Personen und gib es aus."
   ]
  },
  {
   "cell_type": "code",
   "execution_count": null,
   "metadata": {},
   "outputs": [],
   "source": []
  },
  {
   "cell_type": "markdown",
   "metadata": {},
   "source": [
    "## Aufgabe 2: Zugriff auf Dictionary-Werte\n",
    "Iteriere über das Dictionary und gib sowohl Schlüssel als auch Werte aus."
   ]
  },
  {
   "cell_type": "code",
   "execution_count": null,
   "metadata": {},
   "outputs": [],
   "source": []
  },
  {
   "cell_type": "markdown",
   "metadata": {},
   "source": [
    "## Aufgabe 3: Dictionary verändern\n",
    "Ändere das Alter von \"Alice\" auf 32 und gib das aktualisierte Dictionary aus."
   ]
  },
  {
   "cell_type": "code",
   "execution_count": null,
   "metadata": {},
   "outputs": [],
   "source": []
  },
  {
   "cell_type": "markdown",
   "metadata": {},
   "source": [
    "## Aufgabe 4: Dictionarylänge\n",
    "Ermittle die Anzahl der Einträge im Dictionary und gib sie aus."
   ]
  },
  {
   "cell_type": "code",
   "execution_count": null,
   "metadata": {},
   "outputs": [],
   "source": []
  },
  {
   "cell_type": "markdown",
   "metadata": {},
   "source": [
    "## Aufgabe 5: Elemente hinzufügen\n",
    "Füge eine neue Person \"Charlie\" mit einem Alter von 22 zum Dictionary hinzu und gib das aktualisierte Dictionary aus."
   ]
  },
  {
   "cell_type": "code",
   "execution_count": null,
   "metadata": {},
   "outputs": [],
   "source": []
  }
 ],
 "metadata": {
  "language_info": {
   "name": "python"
  },
  "orig_nbformat": 4
 },
 "nbformat": 4,
 "nbformat_minor": 2
}
