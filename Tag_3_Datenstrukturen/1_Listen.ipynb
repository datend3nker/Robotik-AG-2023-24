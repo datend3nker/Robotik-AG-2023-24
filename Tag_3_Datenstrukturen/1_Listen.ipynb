{
 "cells": [
  {
   "cell_type": "markdown",
   "metadata": {},
   "source": [
    "# Notebook 5: Listen in Python\n",
    "\n",
    "## Grundkonzept:\n",
    "In diesem Notebook werden wir die Verwendung von Listen in Python kennenlernen. Listen sind Datenstrukturen, die es ermöglichen, mehrere Werte in einer geordneten Sequenz zu speichern.\n",
    "\n",
    "### Grundsyntax:\n",
    "Die grundlegende Syntax für Listen in Python ist wie folgt:\n",
    "\n",
    "```python\n",
    "meine_liste = [element1, element2, element3]\n",
    "```\n",
    "\n",
    "### Listenindizes:\n",
    "Listenindizes beginnen bei 0. Das erste Element hat den Index 0, das zweite den Index 1, und so weiter.\n",
    "\n",
    "### Verwendung von for-Schleifen:\n",
    "`for`-Schleifen können verwendet werden, um durch alle Elemente einer Liste zu iterieren. Hier ist ein Beispiel:\n",
    "\n",
    "```python\n",
    "meine_liste = [1, 2, 3, 4, 5]\n",
    "for element in meine_liste:\n",
    "    print(element)\n",
    "```\n",
    "\n",
    "### Spezielle Funktionen für for-Schleifen:\n",
    "Python bietet einige spezielle Funktionen für `for`-Schleifen mit Listen, wie `enumerate`, `range` und `zip`.\n",
    "\n",
    "## Aufgabe 1: Erstellen einer Liste\n",
    "Erstelle eine Liste mit den Zahlen von 1 bis 5 und gib sie aus."
   ]
  },
  {
   "cell_type": "code",
   "execution_count": null,
   "metadata": {
    "vscode": {
     "languageId": "plaintext"
    }
   },
   "outputs": [],
   "source": []
  },
  {
   "cell_type": "markdown",
   "metadata": {},
   "source": [
    "## Aufgabe 2: Zugriff auf Listenelemente\n",
    "Greife auf das dritte Element der Liste zu und gib es aus.\n",
    "Du kannst mit den eckigen Klammern `[index]` auf ein bestimmtes Element zugreifen. Dazu einfach `Liste[i]` wobei `i` die Stelle ist auf die du zugreifen möchtest."
   ]
  },
  {
   "cell_type": "code",
   "execution_count": null,
   "metadata": {
    "vscode": {
     "languageId": "plaintext"
    }
   },
   "outputs": [],
   "source": []
  },
  {
   "cell_type": "markdown",
   "metadata": {},
   "source": [
    "## Aufgabe 3: Listen verändern\n",
    "Ändere das zweite Element der Liste in \"Hallo\" und gib die aktualisierte Liste aus.\n",
    "Da kannst Einträge ändern/überschreiben, indem du der Liste an der Stelle einfach einen Wert zuweist."
   ]
  },
  {
   "cell_type": "code",
   "execution_count": null,
   "metadata": {
    "vscode": {
     "languageId": "plaintext"
    }
   },
   "outputs": [],
   "source": []
  },
  {
   "cell_type": "markdown",
   "metadata": {},
   "source": [
    "## Aufgabe 4: Listenlänge\n",
    "Ermittle die Länge der Liste und gib sie aus.\n",
    "Benutze hierfür die Funktion `len()`"
   ]
  },
  {
   "cell_type": "code",
   "execution_count": null,
   "metadata": {
    "vscode": {
     "languageId": "plaintext"
    }
   },
   "outputs": [],
   "source": []
  },
  {
   "cell_type": "markdown",
   "metadata": {},
   "source": [
    "## Aufgabe 5: Elemente hinzufügen\n",
    "Füge der Liste ein neues Element \"Welt\" hinzu und gib die aktualisierte Liste aus.\n",
    "Mit der Funktion `Liste.append(element)`, kannst du eine `element` and das ende der Liste `Liste` anhängen"
   ]
  },
  {
   "cell_type": "code",
   "execution_count": null,
   "metadata": {
    "vscode": {
     "languageId": "plaintext"
    }
   },
   "outputs": [],
   "source": []
  }
 ],
 "metadata": {
  "language_info": {
   "name": "python"
  },
  "orig_nbformat": 4
 },
 "nbformat": 4,
 "nbformat_minor": 2
}
